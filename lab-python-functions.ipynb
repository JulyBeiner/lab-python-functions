{
 "cells": [
  {
   "cell_type": "code",
   "execution_count": 89,
   "id": "25075295-d021-4b20-8153-5172804e3c2a",
   "metadata": {},
   "outputs": [],
   "source": [
    "products = [\"t-shirt\", \"mug\", \"hat\", \"book\", \"keychain\"]"
   ]
  },
  {
   "cell_type": "code",
   "execution_count": null,
   "id": "f83ba45d-7275-4347-892f-08307efae1a2",
   "metadata": {},
   "outputs": [],
   "source": [
    "inventory = {}"
   ]
  },
  {
   "cell_type": "code",
   "execution_count": 39,
   "id": "ca972106-2a1f-4281-9682-f491e1f30f15",
   "metadata": {},
   "outputs": [],
   "source": [
    "def initialize_inventory(products):\n",
    "    for p in products:\n",
    "        inventory = {}\n",
    "        quantity = int(input(f'Enter quantity for {products}'))\n",
    "        inventory[p] = quantity\n",
    "    return inventory\n",
    "        "
   ]
  },
  {
   "cell_type": "code",
   "execution_count": 41,
   "id": "37900482-6b9c-44cc-8135-b7b70a61f506",
   "metadata": {},
   "outputs": [
    {
     "name": "stdin",
     "output_type": "stream",
     "text": [
      "Enter quantity for ['t-shirt', 'mug', 'hat', 'book', 'keychain'] 7\n",
      "Enter quantity for ['t-shirt', 'mug', 'hat', 'book', 'keychain'] 5\n",
      "Enter quantity for ['t-shirt', 'mug', 'hat', 'book', 'keychain'] 2\n",
      "Enter quantity for ['t-shirt', 'mug', 'hat', 'book', 'keychain'] 7\n",
      "Enter quantity for ['t-shirt', 'mug', 'hat', 'book', 'keychain'] 8\n"
     ]
    },
    {
     "data": {
      "text/plain": [
       "{'keychain': 8}"
      ]
     },
     "execution_count": 41,
     "metadata": {},
     "output_type": "execute_result"
    }
   ],
   "source": [
    "initialize_inventory(products)"
   ]
  },
  {
   "cell_type": "code",
   "execution_count": 69,
   "id": "15f134e0-2ab1-4b41-b4b6-061c802cdc89",
   "metadata": {},
   "outputs": [],
   "source": [
    "customer_orders = set()"
   ]
  },
  {
   "cell_type": "code",
   "execution_count": 93,
   "id": "45339de2-55b4-4765-8710-63b2fb4aa945",
   "metadata": {},
   "outputs": [],
   "source": [
    "def get_customer_orders():\n",
    "    while True:\n",
    "        answer = input('Enter a product')\n",
    "        customer_orders.add(answer)\n",
    "        \n",
    "        question = input('Would you like to enter another product? yes / no')\n",
    "        if question.lower() != 'yes':\n",
    "            break\n",
    "    return customer_orders"
   ]
  },
  {
   "cell_type": "code",
   "execution_count": 73,
   "id": "fe3a6ddb-452e-4e48-9f46-23609aee547f",
   "metadata": {},
   "outputs": [
    {
     "name": "stdin",
     "output_type": "stream",
     "text": [
      "Enter a product mug\n",
      "Would you like to enter another product? yes / no yes\n",
      "Enter a product keychain\n",
      "Would you like to enter another product? yes / no no\n"
     ]
    }
   ],
   "source": [
    " get_customer_orders()"
   ]
  },
  {
   "cell_type": "code",
   "execution_count": 75,
   "id": "d0b5aa23-e92a-4042-89e3-9ce91d9dce9a",
   "metadata": {},
   "outputs": [
    {
     "data": {
      "text/plain": [
       "{'keychain', 'mug'}"
      ]
     },
     "execution_count": 75,
     "metadata": {},
     "output_type": "execute_result"
    }
   ],
   "source": [
    "customer_orders"
   ]
  },
  {
   "cell_type": "code",
   "execution_count": 77,
   "id": "62d6a809-037f-4c5d-b399-ff8a447449a6",
   "metadata": {},
   "outputs": [],
   "source": [
    "def update_inventory(customer_orders, inventory):\n",
    "    for item in customer_orders:\n",
    "        if item in inventory:\n",
    "            inventory[item] -= 1  \n",
    "            if inventory[item] < 0:\n",
    "                print(f\"Warning: Inventory for '{item}' is now negative.\")\n",
    "                inventory[item] = 0 \n",
    "        else:\n",
    "            print(f\"'{item}' is not in inventory.\")\n",
    "    \n",
    "    return inventory "
   ]
  },
  {
   "cell_type": "code",
   "execution_count": 85,
   "id": "6df91119-4f75-4311-8629-4d885999b974",
   "metadata": {},
   "outputs": [],
   "source": [
    "def calculate_order_statistics(customer_orders, products):\n",
    "    total_products_ordered = len(customer_orders) \n",
    "    total_available_products = len(products)  \n",
    "\n",
    "    # Calculate percentage of unique products ordered\n",
    "    if total_available_products > 0:\n",
    "        percentage_unique_ordered = (total_products_ordered / total_available_products) * 100\n",
    "    else:\n",
    "        percentage_unique_ordered = 0  \n",
    "\n",
    "    return total_products_ordered, percentage_unique_ordered"
   ]
  },
  {
   "cell_type": "code",
   "execution_count": 95,
   "id": "ce53ad5f-8748-4ea4-a311-0242b6be49c5",
   "metadata": {},
   "outputs": [],
   "source": [
    "def print_order_statistics(total_ordered, unique_percentage):\n",
    "    print(\"Estadísticas del Pedido:\")\n",
    "    print(f\"Total de Productos Únicos Ordenados: {total_ordered}\")\n",
    "    print(f\"Porcentaje de Productos Únicos Ordenados: {unique_percentage:.2f}%\")"
   ]
  },
  {
   "cell_type": "code",
   "execution_count": 87,
   "id": "90f1f596-4dd2-4ca7-a380-f29804e22c78",
   "metadata": {},
   "outputs": [],
   "source": [
    "def print_updated_inventory(inventory):\n",
    "    print(\"Updated Inventory:\")\n",
    "    for product, quantity in inventory.items():\n",
    "        print(f\"{product}: {quantity}\")"
   ]
  },
  {
   "cell_type": "code",
   "execution_count": null,
   "id": "0680c5a8-44ea-4199-a2d4-d4650c25a0b3",
   "metadata": {},
   "outputs": [],
   "source": []
  }
 ],
 "metadata": {
  "kernelspec": {
   "display_name": "Python 3 (ipykernel)",
   "language": "python",
   "name": "python3"
  },
  "language_info": {
   "codemirror_mode": {
    "name": "ipython",
    "version": 3
   },
   "file_extension": ".py",
   "mimetype": "text/x-python",
   "name": "python",
   "nbconvert_exporter": "python",
   "pygments_lexer": "ipython3",
   "version": "3.12.4"
  }
 },
 "nbformat": 4,
 "nbformat_minor": 5
}
